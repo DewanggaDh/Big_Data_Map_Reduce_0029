//# Library
from bs4 import BeautifulSoup
from urllib.request import Request, urlopen
from itertools import groupby;

//# Sorting Function
def sort_func(data):
  return data[1]

//# Data Scrapping & Cleaning
req = Request("https://en.wikipedia.org/wiki/Nikola_Tesla")
html_page = urlopen(req)
soup = BeautifulSoup(html_page, "html.parser")
title = soup.select("#firstHeading")[0].text
paragraphs = soup.select("p")
links = []
for para in paragraphs:
  for i in para.text.split(r' '):
    if i.isalpha():
      links.append([i.lower(), 1])

//# Sorting
links_sort = sorted(links, key = lambda x: x[0])

//# Counting
result = []
for i, j in groupby(links_sort, key = lambda x: x[0]):
  result.append([i, len(list(j))])

//# Sort by Quantity
result.sort(reverse = True, key = sort_func)
result
